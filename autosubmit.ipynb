{
 "cells": [
  {
   "cell_type": "code",
   "execution_count": 31,
   "metadata": {},
   "outputs": [
    {
     "data": {
      "text/plain": [
       "11"
      ]
     },
     "execution_count": 31,
     "metadata": {},
     "output_type": "execute_result"
    }
   ],
   "source": [
    "import datetime\n",
    "end_time = datetime.datetime.now().strftime('%Y-%m-%d-23')\n",
    "pred_day = datetime.datetime.now().day+1\n",
    "start_time = '2018-05-01-00'\n",
    "pred_day"
   ]
  },
  {
   "cell_type": "code",
   "execution_count": 32,
   "metadata": {},
   "outputs": [
    {
     "data": {
      "text/plain": [
       "256"
      ]
     },
     "execution_count": 32,
     "metadata": {},
     "output_type": "execute_result"
    }
   ],
   "source": [
    "import os\n",
    "file_dir = 'submission/5.'+str(pred_day)+'/'\n",
    "os.system('mkdir '+file_dir)"
   ]
  },
  {
   "cell_type": "code",
   "execution_count": 33,
   "metadata": {},
   "outputs": [],
   "source": [
    "from urllib import request\n",
    "for city in ['bj','ld']:\n",
    "    url = 'https://biendata.com/competition/airquality/'+city+'/'+start_time+'/'+end_time+'/2k0d1d8' #网页地址\n",
    "    wp = request.urlopen(url) #打开连接\n",
    "    content = wp.read() #获取页面内容\n",
    "    fp = open(file_dir+city+\".csv\",\"w+b\") #打开一个文本文件\n",
    "    fp.write(content) #写入数据\n",
    "    fp.close() #关闭文件"
   ]
  },
  {
   "cell_type": "code",
   "execution_count": 34,
   "metadata": {},
   "outputs": [],
   "source": [
    "import pandas as pd\n",
    "for city in ['bj','ld']:\n",
    "    now = pd.read_csv(file_dir+city+'.csv')\n",
    "    data = pd.DataFrame()\n",
    "    for i,j in now.groupby(now['station_id']):\n",
    "        j = j.sort_values(by=['time'])\n",
    "        data = data.append(j)\n",
    "        data.to_csv(file_dir+city+'now.csv')\n"
   ]
  },
  {
   "cell_type": "code",
   "execution_count": 35,
   "metadata": {},
   "outputs": [
    {
     "name": "stdout",
     "output_type": "stream",
     "text": [
      "BL0\n",
      "BX1\n",
      "BX9\n",
      "CD1\n",
      "CD9\n",
      "CT2\n",
      "CT3\n",
      "GN0\n",
      "GN3\n",
      "GR4\n",
      "GR9\n",
      "HV1\n",
      "KF1\n",
      "LW2\n",
      "MY7\n",
      "RB7\n",
      "ST5\n",
      "TD5\n",
      "TH4\n"
     ]
    }
   ],
   "source": [
    "from sklearn.linear_model import LinearRegression\n",
    "from sklearn.externals import joblib\n",
    "regr = joblib.load(\"model/train_model.m\")\n",
    "ans = {}\n",
    "import pandas as pd\n",
    "import numpy as np\n",
    "bj_now = pd.read_csv(file_dir+'bjnow.csv')\n",
    "bj_now = bj_now.fillna(method = 'ffill')\n",
    "bj_now = bj_now.fillna(method = 'bfill')\n",
    "for i,j in bj_now.groupby(bj_now['station_id']):\n",
    "    x = np.hstack(np.array(j.iloc[-48:][['PM25_Concentration','PM10_Concentration','NO2_Concentration','CO_Concentration','O3_Concentration', 'SO2_Concentration' ]]))\n",
    "    y = regr.predict(x.reshape(1,-1))\n",
    "    ans[i] = y\n",
    "ld_regr = joblib.load(\"model/ld_train_model.m\")\n",
    "ld_now = pd.read_csv(file_dir+'ldnow.csv')\n",
    "ld_now = ld_now.fillna(method = 'ffill')\n",
    "ld_now = ld_now.fillna(method = 'bfill')\n",
    "for i,j in ld_now.groupby(ld_now['station_id']):\n",
    "    x = np.hstack(np.array(j.iloc[-48:][['PM25_Concentration','PM10_Concentration','NO2_Concentration']]))\n",
    "    y = ld_regr.predict(x.reshape(1,-1))\n",
    "    ans[i] = y\n",
    "submit2histdata={} \n",
    "for i in list(ans.keys()):\n",
    "    submit2histdata[i] = i\n",
    "submit2histdata['wanshouxig_aq'] = 'wanshouxigong_aq'\n",
    "submit2histdata['aotizhongx_aq'] = 'aotizhongxin_aq'\n",
    "submit2histdata['nongzhangu_aq'] = 'nongzhanguan_aq'\n",
    "submit2histdata['fengtaihua_aq'] = 'fengtaihuayuan_aq'\n",
    "submit2histdata['miyunshuik_aq'] = 'miyunshuiku_aq'\n",
    "submit2histdata['yongdingme_aq'] = 'yongdingmennei_aq'\n",
    "submit2histdata['xizhimenbe_aq'] = 'xizhimenbei_aq'\n",
    "def split_id(input):\n",
    "    item,num = input.split('#')\n",
    "    return item,num\n",
    "\n",
    "submit_csv = pd.read_csv('data/sample_submissioin.csv')\n",
    "submit_data = np.array(submit_csv)\n",
    "\n",
    "for i in range(len(submit_csv)):\n",
    "    item,num = split_id(submit_csv.iloc[i].test_id)\n",
    "    try:\n",
    "        if(ans[submit2histdata[item]].shape[1]>200):\n",
    "            submit_data[i][1:4]=ans[submit2histdata[item]].reshape(48,6)[int(num)][0:3]\n",
    "        else:\n",
    "            submit_data[i][1:4]=ans[submit2histdata[item]].reshape(48,3)[int(num)]\n",
    "    except:\n",
    "        pass\n",
    "submit = pd.DataFrame(submit_data,columns=submit_csv.columns,index=submit_csv.test_id)\n",
    "submit = submit.drop('test_id',1)\n",
    "submit[submit<0] = 0\n",
    "submit.to_csv(file_dir+'submit.csv')"
   ]
  },
  {
   "cell_type": "code",
   "execution_count": 36,
   "metadata": {},
   "outputs": [
    {
     "name": "stdout",
     "output_type": "stream",
     "text": [
      "{\"success\": true}\n"
     ]
    }
   ],
   "source": [
    "import requests\n",
    "\n",
    "files={'files': open(file_dir+'submit.csv','rb')}\n",
    "\n",
    "data = {\n",
    "    \"user_id\": \"kimzenu\",   #user_id is your username which can be found on the top-right corner on our website when you logged in.\n",
    "    \"team_token\": \"dda0730d880c3e82fea1be19a90335d7776403407ecdee30878f5a1c655ae53a\", #your team_token.\n",
    "    \"description\": 'naive submit use linear regression and naive factor',  #no more than 40 chars.\n",
    "    \"filename\": \"submit.csv\", #your filename\n",
    "}\n",
    "\n",
    "url = 'https://biendata.com/competition/kdd_2018_submit/'\n",
    "\n",
    "response = requests.post(url, files=files, data=data)\n",
    "\n",
    "print(response.text)"
   ]
  },
  {
   "cell_type": "code",
   "execution_count": null,
   "metadata": {
    "collapsed": true
   },
   "outputs": [],
   "source": []
  }
 ],
 "metadata": {
  "kernelspec": {
   "display_name": "Python 3",
   "language": "python",
   "name": "python3"
  },
  "language_info": {
   "codemirror_mode": {
    "name": "ipython",
    "version": 3
   },
   "file_extension": ".py",
   "mimetype": "text/x-python",
   "name": "python",
   "nbconvert_exporter": "python",
   "pygments_lexer": "ipython3",
   "version": "3.6.3"
  }
 },
 "nbformat": 4,
 "nbformat_minor": 2
}
