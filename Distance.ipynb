{
 "cells": [
  {
   "cell_type": "code",
   "execution_count": 15,
   "metadata": {},
   "outputs": [],
   "source": [
    "#coding=utf-8\n",
    "import csv"
   ]
  },
  {
   "cell_type": "code",
   "execution_count": 19,
   "metadata": {
    "scrolled": false
   },
   "outputs": [
    {
     "data": {
      "text/plain": [
       "{'aotizhongxin_aq': 'beijing_grid_304',\n",
       " 'beibuxinqu_aq': 'beijing_grid_263',\n",
       " 'dongsi_aq': 'beijing_grid_303',\n",
       " 'fengtaihuayuan_aq': 'beijing_grid_282',\n",
       " 'guanyuan_aq': 'beijing_grid_282',\n",
       " 'gucheng_aq': 'beijing_grid_261',\n",
       " 'nongzhanguan_aq': 'beijing_grid_325',\n",
       " 'tiantan_aq': 'beijing_grid_304',\n",
       " 'wanliu_aq': 'beijing_grid_283',\n",
       " 'wanshouxigong_aq': 'beijing_grid_303',\n",
       " 'yungang_aq': 'beijing_grid_239',\n",
       " 'zhiwuyuan_aq': 'beijing_grid_262'}"
      ]
     },
     "execution_count": 19,
     "metadata": {},
     "output_type": "execute_result"
    }
   ],
   "source": [
    "csv_reader = csv.reader(open('data/match_station.csv', encoding='utf-8'))\n",
    "Dict = {}\n",
    "for row in csv_reader:\n",
    "    Dict[row[0]] = row[1]"
   ]
  },
  {
   "cell_type": "code",
   "execution_count": 41,
   "metadata": {},
   "outputs": [],
   "source": [
    "#找对应项，构建列表\n",
    "csv_reader1 = csv.reader(open('data/beijing_17_18_aq.csv', encoding='utf-8'))\n",
    "station_list = []\n",
    "for i in Dict:\n",
    "    station_list.append(Dict[i])\n",
    "station_list = list(set(station_list))\n",
    "station_list = sorted(station_list)\n",
    "\n",
    "for s0 in station_list:\n",
    "    for row in csv_reader1:\n",
    "        row\n",
    "        #print(row[0])\n",
    "        #if s0 == row[0]:\n",
    "         \n",
    "            #print(row[0])\n",
    "#for row in csv_reader:\n",
    " #   if row[0] \n",
    "        \n",
    "#填写文件\n",
    "#out = open('data/beijing_17_18_aq.csv', 'w', newline='')\n",
    "#csv_writer = csv.writer(out, dialect='excel')\n"
   ]
  },
  {
   "cell_type": "code",
   "execution_count": null,
   "metadata": {},
   "outputs": [],
   "source": []
  },
  {
   "cell_type": "code",
   "execution_count": null,
   "metadata": {},
   "outputs": [],
   "source": []
  }
 ],
 "metadata": {
  "kernelspec": {
   "display_name": "Python 3",
   "language": "python",
   "name": "python3"
  },
  "language_info": {
   "codemirror_mode": {
    "name": "ipython",
    "version": 3
   },
   "file_extension": ".py",
   "mimetype": "text/x-python",
   "name": "python",
   "nbconvert_exporter": "python",
   "pygments_lexer": "ipython3",
   "version": "3.6.4"
  }
 },
 "nbformat": 4,
 "nbformat_minor": 2
}
