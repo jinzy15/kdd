{
 "cells": [
  {
   "cell_type": "code",
   "execution_count": 2,
   "metadata": {},
   "outputs": [],
   "source": [
    "#coding=utf-8\n",
    "import csv\n",
    "import re  #分词\n",
    "import numpy as np\n",
    "import pandas as pd\n",
    "\n",
    "def get_key (dict, value):\n",
    "    return [k for k, v in dict.items() if v == value]\n",
    "\n",
    "def Dict_match(filepath):    \n",
    "    csv_reader = csv.reader(open(filepath, encoding='utf-8'))\n",
    "    Dict = {}\n",
    "    for row in csv_reader:  #0 城区监测点　１　郊区监测点\n",
    "        Dict[row[0]] = row[1] \n",
    "    return Dict"
   ]
  },
  {
   "cell_type": "code",
   "execution_count": 15,
   "metadata": {},
   "outputs": [],
   "source": [
    "def get_another_factors(file_path, Match_Dict, Mode):  #Mode 0 基于历史数据训练　1　基于当天数据预测    \n",
    "    #找对应项，构建列表\n",
    "    csv_reader = csv.reader(open(file_path, encoding='utf-8'))\n",
    "    #临近气象站点列表\n",
    "    another_factor = {}\n",
    "    for s0 in Match_Dict:\n",
    "        for s1 in csv_reader:\n",
    "            data_list = []\n",
    "            station_id = \"\"\n",
    "            time = \"\"\n",
    "            if Mode == 0:  #训练模式\n",
    "                station_id = s1[0]\n",
    "                time = s1[3]\n",
    "            if Mode == 1:  #预测模式\n",
    "                station_id = s1[1]\n",
    "                time = s1[2]\n",
    "                \n",
    "            if Match_Dict[s0] == station_id:\n",
    "                key = s0 + \"#\" + time\n",
    "                for i in range(4, 7):\n",
    "                    data_list.append(s1[i])\n",
    "                another_factor[key] = data_list    \n",
    "    return another_factor"
   ]
  },
  {
   "cell_type": "code",
   "execution_count": 17,
   "metadata": {},
   "outputs": [],
   "source": [
    "def add_factor(file_path, out_file, another_factor, Mode):\n",
    "    test_reader = csv.reader(open(file_path, encoding='utf-8'))\n",
    "    #给测试集站点填加温度　湿度信息\n",
    "    df = pd.read_csv(file_path)\n",
    "    temper = []\n",
    "    press  = []\n",
    "    humi   = []\n",
    "    for s0 in test_reader:\n",
    "        station_id = \"\"\n",
    "        time = \"\"\n",
    "        if Mode == 1:  #测试数据\n",
    "            station_id = s0[1]\n",
    "            time = s0[2]\n",
    "        if Mode == 0:  #训练数据\n",
    "            station_id = s0[0]\n",
    "            time = s0[3]\n",
    "        if station_id == 'station_id' or station_id == 'stationName':\n",
    "            continue\n",
    "        key = station_id + \"#\" + time\n",
    "        if key in another_factor.keys():\n",
    "            temper.append(another_factor[key][0])\n",
    "            press.append(another_factor[key][1])\n",
    "            humi.append(another_factor[key][2])\n",
    "        else:  #出现缺失的情况，补一个缺失值\n",
    "            temper.append(np.nan)\n",
    "            press.append(np.nan)\n",
    "            humi.append(np.nan)\n",
    "    df['temperature'] = temper\n",
    "    df['pressure'] = press\n",
    "    df['humidity'] = humi\n",
    "    df.to_csv(out_file)"
   ]
  },
  {
   "cell_type": "code",
   "execution_count": 14,
   "metadata": {},
   "outputs": [],
   "source": [
    "def add_out(match_city, file_temp, file_pm2, out_file):\n",
    "    match_dict = Dict_match(bj_match)  #寻找临近的气象站　match_city: data/match_bj.csv  data/match_ld.csv\n",
    "    another_factor = get_another_factors(bj_his, match_dict)  #获得湿度信息的列表\n",
    "    add_factor(bj_aq, out_file, another_factor)  #添加到含pm2.5的文件中\n",
    "\n",
    "# match_city = 'data/match_bj.csv'  #匹配当地气象站的数据，北京　match_bj 伦敦　mathc_ld\n",
    "# bj_his = 'data/Beijing_historical_meo_grid.csv'  #含湿度的文件\n",
    "# bj_aq = 'data/beijing_17_18_aq.csv'  #含pm2.5的文件\n",
    "# out_file = '223.csv'  #生成包含湿度　和　pm2.5数据的文件\n",
    "# add_out(match_city, bj_his, bj_aq, out_file)"
   ]
  },
  {
   "cell_type": "code",
   "execution_count": 12,
   "metadata": {},
   "outputs": [],
   "source": []
  }
 ],
 "metadata": {
  "kernelspec": {
   "display_name": "Python 3",
   "language": "python",
   "name": "python3"
  },
  "language_info": {
   "codemirror_mode": {
    "name": "ipython",
    "version": 3
   },
   "file_extension": ".py",
   "mimetype": "text/x-python",
   "name": "python",
   "nbconvert_exporter": "python",
   "pygments_lexer": "ipython3",
   "version": "3.6.4"
  }
 },
 "nbformat": 4,
 "nbformat_minor": 2
}
