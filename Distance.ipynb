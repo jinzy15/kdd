{
 "cells": [
  {
   "cell_type": "code",
   "execution_count": 16,
   "metadata": {},
   "outputs": [],
   "source": [
    "#coding=utf-8\n",
    "import csv\n",
    "import re  #分词\n",
    "import numpy as np\n",
    "import pandas as pd\n",
    "\n",
    "def get_key (dict, value):\n",
    "    return [k for k, v in dict.items() if v == value]\n",
    "\n",
    "csv_reader = csv.reader(open('data/match_station.csv', encoding='utf-8'))\n",
    "Dict = {}\n",
    "for row in csv_reader:  #0 城区监测点　１　郊区监测点\n",
    "    Dict[row[0]] = row[1]"
   ]
  },
  {
   "cell_type": "code",
   "execution_count": null,
   "metadata": {},
   "outputs": [],
   "source": [
    "#找对应项，构建列表\n",
    "csv_reader1 = csv.reader(open('data/Beijing_historical_meo_grid.csv', encoding='utf-8'))\n",
    "#临近气象站点列表\n",
    "another_factor = {}\n",
    "for s0 in Dict:\n",
    "    for s1 in csv_reader1:\n",
    "        data_list = []\n",
    "        if Dict[s0] == s1[0]:\n",
    "            key = s0 + \"#\" + s1[3]\n",
    "            for i in range(4, 7):\n",
    "                data_list.append(s1[i])\n",
    "            another_factor[key] = data_list"
   ]
  },
  {
   "cell_type": "code",
   "execution_count": 30,
   "metadata": {},
   "outputs": [],
   "source": [
    "test_reader = csv.reader(open('data/beijing_17_18_aq.csv', encoding='utf-8'))\n",
    "#给测试集站点填加温度　湿度信息\n",
    "temper = []\n",
    "press  = []\n",
    "humi   = []\n",
    "for s0 in test_reader:\n",
    "    if s0[0] == 'stationId':\n",
    "        continue\n",
    "    key = s0[0] + \"#\" + s0[1]\n",
    "    if key in another_factor.keys():\n",
    "        temper.append(another_factor[key][0])\n",
    "        press.append(another_factor[key][1])\n",
    "        humi.append(another_factor[key][2])\n",
    "    else:  #出现缺失的情况，补一个缺失值\n",
    "        temper.append(np.nan)\n",
    "        press.append(np.nan)\n",
    "        humi.append(np.nan)"
   ]
  },
  {
   "cell_type": "code",
   "execution_count": 34,
   "metadata": {},
   "outputs": [],
   "source": [
    "df = pd.read_csv('data/beijing_17_18_aq.csv')\n",
    "df['temperature'] = temper\n",
    "df['pressure'] = press\n",
    "df['humidity'] = humi\n",
    "df.to_csv(\"233.csv\")"
   ]
  }
 ],
 "metadata": {
  "kernelspec": {
   "display_name": "Python 3",
   "language": "python",
   "name": "python3"
  },
  "language_info": {
   "codemirror_mode": {
    "name": "ipython",
    "version": 3
   },
   "file_extension": ".py",
   "mimetype": "text/x-python",
   "name": "python",
   "nbconvert_exporter": "python",
   "pygments_lexer": "ipython3",
   "version": "3.6.4"
  }
 },
 "nbformat": 4,
 "nbformat_minor": 2
}
